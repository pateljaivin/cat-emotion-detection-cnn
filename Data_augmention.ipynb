{
 "cells": [
  {
   "cell_type": "code",
   "execution_count": 90,
   "id": "20f89bf7",
   "metadata": {},
   "outputs": [],
   "source": [
    "\n",
    "import cv2\n",
    "import numpy as np\n",
    "from PIL import Image\n",
    "import os\n",
    "import glob"
   ]
  },
  {
   "cell_type": "code",
   "execution_count": 91,
   "id": "8c043057",
   "metadata": {},
   "outputs": [],
   "source": [
    "inputFolder = \"cat_final\\\\5\\\\train\\Angry\"\n",
    "folderlen = len(inputFolder)\n",
    "os.mkdir(\"Rotation\")\n",
    "i = 0\n",
    "for img in glob.glob(inputFolder + \"/*.jpg\"):\n",
    "    image = cv2.imread(img)\n",
    "    height, width = image.shape[:2]\n",
    "    rotation_matrix = cv2.getRotationMatrix2D((width/2,height/2),45,.5)\n",
    "    rotated_image = cv2.warpAffine(image,rotation_matrix,(width,height))\n",
    "    cv2.imwrite(\"Rotation\" + img[folderlen:], rotated_image)\n",
    "\n",
    "   \n"
   ]
  },
  {
   "cell_type": "code",
   "execution_count": 92,
   "id": "ba06b03e",
   "metadata": {},
   "outputs": [],
   "source": [
    "\n",
    "import cv2\n",
    "import numpy as np\n",
    "from PIL import Image\n",
    "import os\n",
    "import glob"
   ]
  },
  {
   "cell_type": "code",
   "execution_count": 93,
   "id": "40438d09",
   "metadata": {},
   "outputs": [],
   "source": [
    "inputFolder = \"cat_final\\\\5\\\\train\\Angry\"\n",
    "folderlen = len(inputFolder)\n",
    "os.mkdir('IncreaseBrightness')\n",
    "i = 0\n",
    "for img in glob.glob(inputFolder + \"/*.jpg\"):\n",
    "    image = cv2.imread(img)\n",
    "    bright = np.ones(image.shape, dtype=\"uint8\") * 70\n",
    "    brightincrease = cv2.add(image,bright)\n",
    "    cv2.imwrite(\"IncreaseBrightness\" + img[folderlen:], brightincrease)"
   ]
  },
  {
   "cell_type": "code",
   "execution_count": 94,
   "id": "8d915633",
   "metadata": {},
   "outputs": [],
   "source": [
    "inputFolder = \"cat_final\\\\5\\\\train\\Angry\"\n",
    "folderlen = len(inputFolder)\n",
    "\n",
    "os.mkdir('decreaseBrightness')\n",
    "i = 0\n",
    "for img in glob.glob(inputFolder + \"/*.jpg\"):\n",
    "    image = cv2.imread(img)\n",
    "    bright = np.ones(image.shape, dtype=\"uint8\") * 70\n",
    "    brightincrease = cv2.subtract(image,bright)\n",
    "    cv2.imwrite(\"decreaseBrightness\" + img[folderlen:], brightincrease)"
   ]
  },
  {
   "cell_type": "code",
   "execution_count": 95,
   "id": "ba8baf23",
   "metadata": {},
   "outputs": [],
   "source": [
    "inputFolder = \"cat_final\\\\5\\\\train\\Angry\"\n",
    "folderlen = len(inputFolder)\n",
    "os.mkdir(\"sharpening\")\n",
    "i = 0\n",
    "for img in glob.glob(inputFolder + \"/*.jpg\"):\n",
    "    image = cv2.imread(img)\n",
    "    sharpening = np.array([[-1,-1,-1],\n",
    "                         [-1,10,-1],\n",
    "                         [-1,-1,-1]])\n",
    "    sharpened = cv2.filter2D(image,-1,sharpening)\n",
    "    cv2.imwrite(\"sharpening\" + img[folderlen:],sharpened )"
   ]
  },
  {
   "cell_type": "code",
   "execution_count": null,
   "id": "07e7d36b",
   "metadata": {},
   "outputs": [],
   "source": []
  }
 ],
 "metadata": {
  "kernelspec": {
   "display_name": "Python 3",
   "language": "python",
   "name": "python3"
  },
  "language_info": {
   "codemirror_mode": {
    "name": "ipython",
    "version": 3
   },
   "file_extension": ".py",
   "mimetype": "text/x-python",
   "name": "python",
   "nbconvert_exporter": "python",
   "pygments_lexer": "ipython3",
   "version": "3.10.5"
  },
  "vscode": {
   "interpreter": {
    "hash": "26de051ba29f2982a8de78e945f0abaf191376122a1563185a90213a26c5da77"
   }
  }
 },
 "nbformat": 4,
 "nbformat_minor": 5
}
